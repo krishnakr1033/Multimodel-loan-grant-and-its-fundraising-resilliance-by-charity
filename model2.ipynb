{
 "cells": [
  {
   "cell_type": "code",
   "execution_count": 1,
   "metadata": {},
   "outputs": [],
   "source": [
    "import pandas as pd\n",
    "import numpy as np\n"
   ]
  },
  {
   "cell_type": "code",
   "execution_count": 2,
   "metadata": {},
   "outputs": [],
   "source": [
    "df_m2 = pd.read_csv('D:\\study tool\\Programming & Data Science Study Materials\\Dat Science and AI\\Jupyter Notebook files\\gofundme_model\\model2_final_Data.csv')"
   ]
  },
  {
   "cell_type": "code",
   "execution_count": 3,
   "metadata": {},
   "outputs": [],
   "source": [
    "df_m2=df_m2.iloc[:,1:]"
   ]
  },
  {
   "cell_type": "code",
   "execution_count": 4,
   "metadata": {},
   "outputs": [],
   "source": [
    "df_m2['label(%)']=((df_m2['raised_amount($)']/df_m2['days_of_fund_raising'])*60)/df_m2['requested_amount($)']"
   ]
  },
  {
   "cell_type": "code",
   "execution_count": 5,
   "metadata": {},
   "outputs": [
    {
     "data": {
      "text/plain": [
       "0        233.154000\n",
       "1          0.000000\n",
       "2         19.432500\n",
       "3          1.558413\n",
       "4         17.241600\n",
       "            ...    \n",
       "11995      0.204750\n",
       "11996      3.195429\n",
       "11997      0.806481\n",
       "11998      1.128000\n",
       "11999      4.243636\n",
       "Name: label(%), Length: 12000, dtype: float64"
      ]
     },
     "execution_count": 5,
     "metadata": {},
     "output_type": "execute_result"
    }
   ],
   "source": [
    "df_m2['label(%)']"
   ]
  },
  {
   "cell_type": "code",
   "execution_count": 6,
   "metadata": {},
   "outputs": [
    {
     "data": {
      "text/html": [
       "<div>\n",
       "<style scoped>\n",
       "    .dataframe tbody tr th:only-of-type {\n",
       "        vertical-align: middle;\n",
       "    }\n",
       "\n",
       "    .dataframe tbody tr th {\n",
       "        vertical-align: top;\n",
       "    }\n",
       "\n",
       "    .dataframe thead th {\n",
       "        text-align: right;\n",
       "    }\n",
       "</style>\n",
       "<table border=\"1\" class=\"dataframe\">\n",
       "  <thead>\n",
       "    <tr style=\"text-align: right;\">\n",
       "      <th></th>\n",
       "      <th>vector</th>\n",
       "      <th>requested_amount($)</th>\n",
       "      <th>days_of_fund_raising</th>\n",
       "      <th>num_category</th>\n",
       "      <th>raised_amount($)</th>\n",
       "      <th>img_context_vector</th>\n",
       "      <th>label(%)</th>\n",
       "    </tr>\n",
       "  </thead>\n",
       "  <tbody>\n",
       "    <tr>\n",
       "      <th>8425</th>\n",
       "      <td>[-0.09101834  0.2510272  -0.38633373  0.041564...</td>\n",
       "      <td>1000.0</td>\n",
       "      <td>34.0</td>\n",
       "      <td>0.051158</td>\n",
       "      <td>600.0</td>\n",
       "      <td>[ 3.4838006   0.          4.320933    0.      ...</td>\n",
       "      <td>1.058824</td>\n",
       "    </tr>\n",
       "    <tr>\n",
       "      <th>9428</th>\n",
       "      <td>[-0.27083212  0.05386735 -0.24155918  0.280706...</td>\n",
       "      <td>8000.0</td>\n",
       "      <td>86.0</td>\n",
       "      <td>0.027801</td>\n",
       "      <td>1042.0</td>\n",
       "      <td>[ 0.          0.          0.          0.      ...</td>\n",
       "      <td>0.090872</td>\n",
       "    </tr>\n",
       "    <tr>\n",
       "      <th>3571</th>\n",
       "      <td>[-0.36216494  0.24804871 -0.2465803   0.253902...</td>\n",
       "      <td>5000.0</td>\n",
       "      <td>47.0</td>\n",
       "      <td>0.014079</td>\n",
       "      <td>0.0</td>\n",
       "      <td>[5.7488103  0.         0.         1.432206   0...</td>\n",
       "      <td>0.000000</td>\n",
       "    </tr>\n",
       "    <tr>\n",
       "      <th>3784</th>\n",
       "      <td>[-0.35571474  0.3658577  -0.23546869  0.241172...</td>\n",
       "      <td>500.0</td>\n",
       "      <td>83.0</td>\n",
       "      <td>0.014079</td>\n",
       "      <td>0.0</td>\n",
       "      <td>[ 0.13995929  0.          0.          0.      ...</td>\n",
       "      <td>0.000000</td>\n",
       "    </tr>\n",
       "    <tr>\n",
       "      <th>10446</th>\n",
       "      <td>[-2.78715402e-01  3.49705992e-03 -2.19088033e-...</td>\n",
       "      <td>350.0</td>\n",
       "      <td>92.0</td>\n",
       "      <td>0.016638</td>\n",
       "      <td>550.0</td>\n",
       "      <td>[ 0.          0.          3.168646    2.434044...</td>\n",
       "      <td>1.024845</td>\n",
       "    </tr>\n",
       "  </tbody>\n",
       "</table>\n",
       "</div>"
      ],
      "text/plain": [
       "                                                  vector  requested_amount($)  \\\n",
       "8425   [-0.09101834  0.2510272  -0.38633373  0.041564...               1000.0   \n",
       "9428   [-0.27083212  0.05386735 -0.24155918  0.280706...               8000.0   \n",
       "3571   [-0.36216494  0.24804871 -0.2465803   0.253902...               5000.0   \n",
       "3784   [-0.35571474  0.3658577  -0.23546869  0.241172...                500.0   \n",
       "10446  [-2.78715402e-01  3.49705992e-03 -2.19088033e-...                350.0   \n",
       "\n",
       "       days_of_fund_raising  num_category  raised_amount($)  \\\n",
       "8425                   34.0      0.051158             600.0   \n",
       "9428                   86.0      0.027801            1042.0   \n",
       "3571                   47.0      0.014079               0.0   \n",
       "3784                   83.0      0.014079               0.0   \n",
       "10446                  92.0      0.016638             550.0   \n",
       "\n",
       "                                      img_context_vector  label(%)  \n",
       "8425   [ 3.4838006   0.          4.320933    0.      ...  1.058824  \n",
       "9428   [ 0.          0.          0.          0.      ...  0.090872  \n",
       "3571   [5.7488103  0.         0.         1.432206   0...  0.000000  \n",
       "3784   [ 0.13995929  0.          0.          0.      ...  0.000000  \n",
       "10446  [ 0.          0.          3.168646    2.434044...  1.024845  "
      ]
     },
     "execution_count": 6,
     "metadata": {},
     "output_type": "execute_result"
    }
   ],
   "source": [
    "df_m2.sample(5)"
   ]
  },
  {
   "cell_type": "code",
   "execution_count": 7,
   "metadata": {},
   "outputs": [
    {
     "data": {
      "text/plain": [
       "Index(['vector', 'requested_amount($)', 'days_of_fund_raising', 'num_category',\n",
       "       'raised_amount($)', 'img_context_vector', 'label(%)'],\n",
       "      dtype='object')"
      ]
     },
     "execution_count": 7,
     "metadata": {},
     "output_type": "execute_result"
    }
   ],
   "source": [
    "df_m2.columns"
   ]
  },
  {
   "cell_type": "code",
   "execution_count": 8,
   "metadata": {},
   "outputs": [
    {
     "name": "stdout",
     "output_type": "stream",
     "text": [
      "<class 'pandas.core.frame.DataFrame'>\n",
      "RangeIndex: 12000 entries, 0 to 11999\n",
      "Data columns (total 7 columns):\n",
      " #   Column                Non-Null Count  Dtype  \n",
      "---  ------                --------------  -----  \n",
      " 0   vector                12000 non-null  object \n",
      " 1   requested_amount($)   12000 non-null  float64\n",
      " 2   days_of_fund_raising  12000 non-null  float64\n",
      " 3   num_category          12000 non-null  float64\n",
      " 4   raised_amount($)      12000 non-null  float64\n",
      " 5   img_context_vector    12000 non-null  object \n",
      " 6   label(%)              12000 non-null  float64\n",
      "dtypes: float64(5), object(2)\n",
      "memory usage: 656.4+ KB\n"
     ]
    }
   ],
   "source": [
    "df_m2.info()"
   ]
  },
  {
   "cell_type": "code",
   "execution_count": 9,
   "metadata": {},
   "outputs": [],
   "source": [
    "def clear_str(string):\n",
    "  vector_str = string\n",
    "  vector_str = vector_str.strip('[]')\n",
    "\n",
    "  # Split the string into individual number strings\n",
    "  str_values = vector_str.split()\n",
    "\n",
    "  # Convert the list of strings to a list of floats\n",
    "  float_values = [float(num) for num in str_values]\n",
    "  return float_values"
   ]
  },
  {
   "cell_type": "code",
   "execution_count": 10,
   "metadata": {},
   "outputs": [],
   "source": [
    "df_label = pd.DataFrame(df_m2['label(%)'])\n",
    "df_img_context=pd.DataFrame(clear_str(string) for string in df_m2[\"img_context_vector\"])\n",
    "df_text_context=pd.DataFrame(clear_str(string) for string in df_m2[\"vector\"])\n",
    "df_amount = df_m2[['requested_amount($)', 'days_of_fund_raising', 'num_category']]"
   ]
  },
  {
   "cell_type": "code",
   "execution_count": 11,
   "metadata": {},
   "outputs": [
    {
     "data": {
      "text/html": [
       "<div>\n",
       "<style scoped>\n",
       "    .dataframe tbody tr th:only-of-type {\n",
       "        vertical-align: middle;\n",
       "    }\n",
       "\n",
       "    .dataframe tbody tr th {\n",
       "        vertical-align: top;\n",
       "    }\n",
       "\n",
       "    .dataframe thead th {\n",
       "        text-align: right;\n",
       "    }\n",
       "</style>\n",
       "<table border=\"1\" class=\"dataframe\">\n",
       "  <thead>\n",
       "    <tr style=\"text-align: right;\">\n",
       "      <th></th>\n",
       "      <th>0</th>\n",
       "      <th>1</th>\n",
       "      <th>2</th>\n",
       "      <th>3</th>\n",
       "      <th>4</th>\n",
       "      <th>5</th>\n",
       "      <th>6</th>\n",
       "      <th>7</th>\n",
       "      <th>8</th>\n",
       "      <th>9</th>\n",
       "      <th>...</th>\n",
       "      <th>118</th>\n",
       "      <th>119</th>\n",
       "      <th>120</th>\n",
       "      <th>121</th>\n",
       "      <th>122</th>\n",
       "      <th>123</th>\n",
       "      <th>124</th>\n",
       "      <th>125</th>\n",
       "      <th>126</th>\n",
       "      <th>127</th>\n",
       "    </tr>\n",
       "  </thead>\n",
       "  <tbody>\n",
       "    <tr>\n",
       "      <th>0</th>\n",
       "      <td>0.0</td>\n",
       "      <td>0.0</td>\n",
       "      <td>0.0</td>\n",
       "      <td>6.953934</td>\n",
       "      <td>0.0</td>\n",
       "      <td>0.0</td>\n",
       "      <td>1.672002</td>\n",
       "      <td>0.0</td>\n",
       "      <td>1.960924</td>\n",
       "      <td>0.0</td>\n",
       "      <td>...</td>\n",
       "      <td>0.0</td>\n",
       "      <td>0.0</td>\n",
       "      <td>4.982536</td>\n",
       "      <td>7.310786</td>\n",
       "      <td>0.0</td>\n",
       "      <td>0.0</td>\n",
       "      <td>4.332591</td>\n",
       "      <td>9.158749</td>\n",
       "      <td>2.516675</td>\n",
       "      <td>0.0</td>\n",
       "    </tr>\n",
       "  </tbody>\n",
       "</table>\n",
       "<p>1 rows × 128 columns</p>\n",
       "</div>"
      ],
      "text/plain": [
       "   0    1    2         3    4    5         6    7         8    9    ...  118  \\\n",
       "0  0.0  0.0  0.0  6.953934  0.0  0.0  1.672002  0.0  1.960924  0.0  ...  0.0   \n",
       "\n",
       "   119       120       121  122  123       124       125       126  127  \n",
       "0  0.0  4.982536  7.310786  0.0  0.0  4.332591  9.158749  2.516675  0.0  \n",
       "\n",
       "[1 rows x 128 columns]"
      ]
     },
     "execution_count": 11,
     "metadata": {},
     "output_type": "execute_result"
    }
   ],
   "source": [
    "df_img_context.head(1)"
   ]
  },
  {
   "cell_type": "code",
   "execution_count": 12,
   "metadata": {},
   "outputs": [
    {
     "data": {
      "text/html": [
       "<div>\n",
       "<style scoped>\n",
       "    .dataframe tbody tr th:only-of-type {\n",
       "        vertical-align: middle;\n",
       "    }\n",
       "\n",
       "    .dataframe tbody tr th {\n",
       "        vertical-align: top;\n",
       "    }\n",
       "\n",
       "    .dataframe thead th {\n",
       "        text-align: right;\n",
       "    }\n",
       "</style>\n",
       "<table border=\"1\" class=\"dataframe\">\n",
       "  <thead>\n",
       "    <tr style=\"text-align: right;\">\n",
       "      <th></th>\n",
       "      <th>0</th>\n",
       "      <th>1</th>\n",
       "      <th>2</th>\n",
       "      <th>3</th>\n",
       "      <th>4</th>\n",
       "      <th>5</th>\n",
       "      <th>6</th>\n",
       "      <th>7</th>\n",
       "      <th>8</th>\n",
       "      <th>9</th>\n",
       "      <th>...</th>\n",
       "      <th>140</th>\n",
       "      <th>141</th>\n",
       "      <th>142</th>\n",
       "      <th>143</th>\n",
       "      <th>144</th>\n",
       "      <th>145</th>\n",
       "      <th>146</th>\n",
       "      <th>147</th>\n",
       "      <th>148</th>\n",
       "      <th>149</th>\n",
       "    </tr>\n",
       "  </thead>\n",
       "  <tbody>\n",
       "    <tr>\n",
       "      <th>0</th>\n",
       "      <td>-0.340189</td>\n",
       "      <td>0.204073</td>\n",
       "      <td>-0.114146</td>\n",
       "      <td>0.377606</td>\n",
       "      <td>-0.244744</td>\n",
       "      <td>0.15282</td>\n",
       "      <td>-0.080407</td>\n",
       "      <td>0.143807</td>\n",
       "      <td>-0.419363</td>\n",
       "      <td>0.271625</td>\n",
       "      <td>...</td>\n",
       "      <td>-0.087962</td>\n",
       "      <td>0.324263</td>\n",
       "      <td>0.058776</td>\n",
       "      <td>-0.586032</td>\n",
       "      <td>-0.332414</td>\n",
       "      <td>-0.340906</td>\n",
       "      <td>0.437036</td>\n",
       "      <td>0.281165</td>\n",
       "      <td>0.155263</td>\n",
       "      <td>0.4137</td>\n",
       "    </tr>\n",
       "  </tbody>\n",
       "</table>\n",
       "<p>1 rows × 150 columns</p>\n",
       "</div>"
      ],
      "text/plain": [
       "        0         1         2         3         4        5         6    \\\n",
       "0 -0.340189  0.204073 -0.114146  0.377606 -0.244744  0.15282 -0.080407   \n",
       "\n",
       "        7         8         9    ...       140       141       142       143  \\\n",
       "0  0.143807 -0.419363  0.271625  ... -0.087962  0.324263  0.058776 -0.586032   \n",
       "\n",
       "        144       145       146       147       148     149  \n",
       "0 -0.332414 -0.340906  0.437036  0.281165  0.155263  0.4137  \n",
       "\n",
       "[1 rows x 150 columns]"
      ]
     },
     "execution_count": 12,
     "metadata": {},
     "output_type": "execute_result"
    }
   ],
   "source": [
    "df_text_context.head(1)"
   ]
  },
  {
   "cell_type": "code",
   "execution_count": 13,
   "metadata": {},
   "outputs": [],
   "source": [
    "import tensorflow as tf\n",
    "from tensorflow import keras\n",
    "from keras import layers,Input\n",
    "from keras.models import Model\n",
    "from keras.layers import Dense,Embedding,LSTM,Flatten,Conv2D,MaxPooling2D,concatenate"
   ]
  },
  {
   "cell_type": "markdown",
   "metadata": {},
   "source": [
    "Preprocessing & Dimentions reduction:"
   ]
  },
  {
   "cell_type": "code",
   "execution_count": 14,
   "metadata": {},
   "outputs": [],
   "source": [
    "from sklearn.preprocessing import StandardScaler\n",
    "scaler=StandardScaler()"
   ]
  },
  {
   "cell_type": "code",
   "execution_count": 15,
   "metadata": {},
   "outputs": [
    {
     "data": {
      "text/html": [
       "<div>\n",
       "<style scoped>\n",
       "    .dataframe tbody tr th:only-of-type {\n",
       "        vertical-align: middle;\n",
       "    }\n",
       "\n",
       "    .dataframe tbody tr th {\n",
       "        vertical-align: top;\n",
       "    }\n",
       "\n",
       "    .dataframe thead th {\n",
       "        text-align: right;\n",
       "    }\n",
       "</style>\n",
       "<table border=\"1\" class=\"dataframe\">\n",
       "  <thead>\n",
       "    <tr style=\"text-align: right;\">\n",
       "      <th></th>\n",
       "      <th>0</th>\n",
       "      <th>1</th>\n",
       "      <th>2</th>\n",
       "      <th>3</th>\n",
       "      <th>4</th>\n",
       "      <th>5</th>\n",
       "      <th>6</th>\n",
       "      <th>7</th>\n",
       "      <th>8</th>\n",
       "      <th>9</th>\n",
       "      <th>...</th>\n",
       "      <th>118</th>\n",
       "      <th>119</th>\n",
       "      <th>120</th>\n",
       "      <th>121</th>\n",
       "      <th>122</th>\n",
       "      <th>123</th>\n",
       "      <th>124</th>\n",
       "      <th>125</th>\n",
       "      <th>126</th>\n",
       "      <th>127</th>\n",
       "    </tr>\n",
       "  </thead>\n",
       "  <tbody>\n",
       "    <tr>\n",
       "      <th>0</th>\n",
       "      <td>-0.642527</td>\n",
       "      <td>-0.181869</td>\n",
       "      <td>-0.605181</td>\n",
       "      <td>2.719069</td>\n",
       "      <td>-0.229247</td>\n",
       "      <td>-0.767336</td>\n",
       "      <td>-0.355620</td>\n",
       "      <td>-0.363319</td>\n",
       "      <td>1.144481</td>\n",
       "      <td>-0.616222</td>\n",
       "      <td>...</td>\n",
       "      <td>-0.493238</td>\n",
       "      <td>-0.849230</td>\n",
       "      <td>0.583441</td>\n",
       "      <td>1.344721</td>\n",
       "      <td>-1.034637</td>\n",
       "      <td>-0.769835</td>\n",
       "      <td>5.384069</td>\n",
       "      <td>2.023554</td>\n",
       "      <td>-0.111655</td>\n",
       "      <td>-0.554200</td>\n",
       "    </tr>\n",
       "    <tr>\n",
       "      <th>1</th>\n",
       "      <td>0.415591</td>\n",
       "      <td>-0.181869</td>\n",
       "      <td>-0.605181</td>\n",
       "      <td>-0.447928</td>\n",
       "      <td>-0.229247</td>\n",
       "      <td>-0.767336</td>\n",
       "      <td>-0.431237</td>\n",
       "      <td>-0.363319</td>\n",
       "      <td>-0.372792</td>\n",
       "      <td>-0.616222</td>\n",
       "      <td>...</td>\n",
       "      <td>1.735219</td>\n",
       "      <td>-0.370301</td>\n",
       "      <td>-0.399157</td>\n",
       "      <td>-0.694564</td>\n",
       "      <td>0.468179</td>\n",
       "      <td>-0.769835</td>\n",
       "      <td>-0.238427</td>\n",
       "      <td>-0.699430</td>\n",
       "      <td>-0.266534</td>\n",
       "      <td>-0.554200</td>\n",
       "    </tr>\n",
       "    <tr>\n",
       "      <th>2</th>\n",
       "      <td>-0.093033</td>\n",
       "      <td>-0.181869</td>\n",
       "      <td>-0.320797</td>\n",
       "      <td>-0.447928</td>\n",
       "      <td>0.275997</td>\n",
       "      <td>0.730365</td>\n",
       "      <td>0.442200</td>\n",
       "      <td>-0.363319</td>\n",
       "      <td>-0.372792</td>\n",
       "      <td>-0.616222</td>\n",
       "      <td>...</td>\n",
       "      <td>-0.468157</td>\n",
       "      <td>-0.142740</td>\n",
       "      <td>-0.867631</td>\n",
       "      <td>0.505594</td>\n",
       "      <td>-0.536065</td>\n",
       "      <td>0.159920</td>\n",
       "      <td>-0.238427</td>\n",
       "      <td>1.648873</td>\n",
       "      <td>-0.586414</td>\n",
       "      <td>0.276825</td>\n",
       "    </tr>\n",
       "    <tr>\n",
       "      <th>3</th>\n",
       "      <td>-0.642527</td>\n",
       "      <td>-0.181869</td>\n",
       "      <td>0.588919</td>\n",
       "      <td>-0.447928</td>\n",
       "      <td>-0.229247</td>\n",
       "      <td>-0.767336</td>\n",
       "      <td>-0.391261</td>\n",
       "      <td>-0.363319</td>\n",
       "      <td>-0.372792</td>\n",
       "      <td>-0.616222</td>\n",
       "      <td>...</td>\n",
       "      <td>-0.493238</td>\n",
       "      <td>-0.849230</td>\n",
       "      <td>1.708784</td>\n",
       "      <td>-0.694564</td>\n",
       "      <td>-0.561849</td>\n",
       "      <td>-0.769835</td>\n",
       "      <td>-0.238427</td>\n",
       "      <td>0.553784</td>\n",
       "      <td>0.021118</td>\n",
       "      <td>-0.554200</td>\n",
       "    </tr>\n",
       "    <tr>\n",
       "      <th>4</th>\n",
       "      <td>-0.642527</td>\n",
       "      <td>-0.181869</td>\n",
       "      <td>0.455937</td>\n",
       "      <td>-0.200006</td>\n",
       "      <td>-0.229247</td>\n",
       "      <td>-0.579144</td>\n",
       "      <td>0.266000</td>\n",
       "      <td>-0.363319</td>\n",
       "      <td>-0.372792</td>\n",
       "      <td>2.336324</td>\n",
       "      <td>...</td>\n",
       "      <td>-0.493238</td>\n",
       "      <td>-0.028821</td>\n",
       "      <td>-0.867631</td>\n",
       "      <td>-0.694564</td>\n",
       "      <td>-0.086252</td>\n",
       "      <td>1.140545</td>\n",
       "      <td>-0.238427</td>\n",
       "      <td>-0.072602</td>\n",
       "      <td>-0.872467</td>\n",
       "      <td>-0.554200</td>\n",
       "    </tr>\n",
       "  </tbody>\n",
       "</table>\n",
       "<p>5 rows × 128 columns</p>\n",
       "</div>"
      ],
      "text/plain": [
       "        0         1         2         3         4         5         6    \\\n",
       "0 -0.642527 -0.181869 -0.605181  2.719069 -0.229247 -0.767336 -0.355620   \n",
       "1  0.415591 -0.181869 -0.605181 -0.447928 -0.229247 -0.767336 -0.431237   \n",
       "2 -0.093033 -0.181869 -0.320797 -0.447928  0.275997  0.730365  0.442200   \n",
       "3 -0.642527 -0.181869  0.588919 -0.447928 -0.229247 -0.767336 -0.391261   \n",
       "4 -0.642527 -0.181869  0.455937 -0.200006 -0.229247 -0.579144  0.266000   \n",
       "\n",
       "        7         8         9    ...       118       119       120       121  \\\n",
       "0 -0.363319  1.144481 -0.616222  ... -0.493238 -0.849230  0.583441  1.344721   \n",
       "1 -0.363319 -0.372792 -0.616222  ...  1.735219 -0.370301 -0.399157 -0.694564   \n",
       "2 -0.363319 -0.372792 -0.616222  ... -0.468157 -0.142740 -0.867631  0.505594   \n",
       "3 -0.363319 -0.372792 -0.616222  ... -0.493238 -0.849230  1.708784 -0.694564   \n",
       "4 -0.363319 -0.372792  2.336324  ... -0.493238 -0.028821 -0.867631 -0.694564   \n",
       "\n",
       "        122       123       124       125       126       127  \n",
       "0 -1.034637 -0.769835  5.384069  2.023554 -0.111655 -0.554200  \n",
       "1  0.468179 -0.769835 -0.238427 -0.699430 -0.266534 -0.554200  \n",
       "2 -0.536065  0.159920 -0.238427  1.648873 -0.586414  0.276825  \n",
       "3 -0.561849 -0.769835 -0.238427  0.553784  0.021118 -0.554200  \n",
       "4 -0.086252  1.140545 -0.238427 -0.072602 -0.872467 -0.554200  \n",
       "\n",
       "[5 rows x 128 columns]"
      ]
     },
     "execution_count": 15,
     "metadata": {},
     "output_type": "execute_result"
    }
   ],
   "source": [
    "text_arr=scaler.fit_transform(df_img_context)\n",
    "df_img_context=pd.DataFrame(text_arr)\n",
    "df_img_context.head()"
   ]
  },
  {
   "cell_type": "code",
   "execution_count": 16,
   "metadata": {},
   "outputs": [
    {
     "data": {
      "text/html": [
       "<div>\n",
       "<style scoped>\n",
       "    .dataframe tbody tr th:only-of-type {\n",
       "        vertical-align: middle;\n",
       "    }\n",
       "\n",
       "    .dataframe tbody tr th {\n",
       "        vertical-align: top;\n",
       "    }\n",
       "\n",
       "    .dataframe thead th {\n",
       "        text-align: right;\n",
       "    }\n",
       "</style>\n",
       "<table border=\"1\" class=\"dataframe\">\n",
       "  <thead>\n",
       "    <tr style=\"text-align: right;\">\n",
       "      <th></th>\n",
       "      <th>0</th>\n",
       "      <th>1</th>\n",
       "      <th>2</th>\n",
       "      <th>3</th>\n",
       "      <th>4</th>\n",
       "      <th>5</th>\n",
       "      <th>6</th>\n",
       "      <th>7</th>\n",
       "      <th>8</th>\n",
       "      <th>9</th>\n",
       "      <th>...</th>\n",
       "      <th>140</th>\n",
       "      <th>141</th>\n",
       "      <th>142</th>\n",
       "      <th>143</th>\n",
       "      <th>144</th>\n",
       "      <th>145</th>\n",
       "      <th>146</th>\n",
       "      <th>147</th>\n",
       "      <th>148</th>\n",
       "      <th>149</th>\n",
       "    </tr>\n",
       "  </thead>\n",
       "  <tbody>\n",
       "    <tr>\n",
       "      <th>0</th>\n",
       "      <td>-0.634810</td>\n",
       "      <td>0.726532</td>\n",
       "      <td>0.823459</td>\n",
       "      <td>1.203708</td>\n",
       "      <td>0.149762</td>\n",
       "      <td>0.136425</td>\n",
       "      <td>-0.211238</td>\n",
       "      <td>-0.194006</td>\n",
       "      <td>-1.178033</td>\n",
       "      <td>-0.396303</td>\n",
       "      <td>...</td>\n",
       "      <td>0.540165</td>\n",
       "      <td>0.093116</td>\n",
       "      <td>1.285075</td>\n",
       "      <td>-2.280538</td>\n",
       "      <td>-1.233187</td>\n",
       "      <td>0.156053</td>\n",
       "      <td>0.307842</td>\n",
       "      <td>1.000326</td>\n",
       "      <td>0.008787</td>\n",
       "      <td>0.942602</td>\n",
       "    </tr>\n",
       "    <tr>\n",
       "      <th>1</th>\n",
       "      <td>-0.899957</td>\n",
       "      <td>-0.605034</td>\n",
       "      <td>0.385783</td>\n",
       "      <td>-1.245874</td>\n",
       "      <td>-0.171102</td>\n",
       "      <td>-0.199456</td>\n",
       "      <td>-1.934090</td>\n",
       "      <td>-0.620224</td>\n",
       "      <td>0.416537</td>\n",
       "      <td>-0.632741</td>\n",
       "      <td>...</td>\n",
       "      <td>1.006121</td>\n",
       "      <td>0.174310</td>\n",
       "      <td>0.004309</td>\n",
       "      <td>0.554216</td>\n",
       "      <td>-0.811810</td>\n",
       "      <td>0.702549</td>\n",
       "      <td>0.339486</td>\n",
       "      <td>-0.131980</td>\n",
       "      <td>0.419915</td>\n",
       "      <td>-0.296176</td>\n",
       "    </tr>\n",
       "    <tr>\n",
       "      <th>2</th>\n",
       "      <td>1.507654</td>\n",
       "      <td>0.465498</td>\n",
       "      <td>0.512815</td>\n",
       "      <td>2.553884</td>\n",
       "      <td>-0.845310</td>\n",
       "      <td>-1.069210</td>\n",
       "      <td>-1.111144</td>\n",
       "      <td>1.437580</td>\n",
       "      <td>-0.615004</td>\n",
       "      <td>1.642041</td>\n",
       "      <td>...</td>\n",
       "      <td>-0.676799</td>\n",
       "      <td>1.307916</td>\n",
       "      <td>-0.369904</td>\n",
       "      <td>-0.458442</td>\n",
       "      <td>0.450523</td>\n",
       "      <td>0.447241</td>\n",
       "      <td>-0.868356</td>\n",
       "      <td>-0.731681</td>\n",
       "      <td>-0.682661</td>\n",
       "      <td>2.115983</td>\n",
       "    </tr>\n",
       "    <tr>\n",
       "      <th>3</th>\n",
       "      <td>0.259333</td>\n",
       "      <td>-0.552576</td>\n",
       "      <td>0.179224</td>\n",
       "      <td>0.510875</td>\n",
       "      <td>-1.612110</td>\n",
       "      <td>-0.461790</td>\n",
       "      <td>-0.421247</td>\n",
       "      <td>-0.224255</td>\n",
       "      <td>-1.158943</td>\n",
       "      <td>-0.414955</td>\n",
       "      <td>...</td>\n",
       "      <td>0.063848</td>\n",
       "      <td>0.802496</td>\n",
       "      <td>-0.497552</td>\n",
       "      <td>-0.895775</td>\n",
       "      <td>-0.426867</td>\n",
       "      <td>0.425690</td>\n",
       "      <td>-0.160362</td>\n",
       "      <td>0.003922</td>\n",
       "      <td>-0.369444</td>\n",
       "      <td>0.660751</td>\n",
       "    </tr>\n",
       "    <tr>\n",
       "      <th>4</th>\n",
       "      <td>0.535412</td>\n",
       "      <td>0.157234</td>\n",
       "      <td>-0.717818</td>\n",
       "      <td>1.604144</td>\n",
       "      <td>-0.459423</td>\n",
       "      <td>0.354609</td>\n",
       "      <td>-0.418408</td>\n",
       "      <td>0.800805</td>\n",
       "      <td>-0.020758</td>\n",
       "      <td>0.573064</td>\n",
       "      <td>...</td>\n",
       "      <td>-0.448093</td>\n",
       "      <td>0.858594</td>\n",
       "      <td>-0.128474</td>\n",
       "      <td>0.405743</td>\n",
       "      <td>0.014934</td>\n",
       "      <td>0.615203</td>\n",
       "      <td>-0.864762</td>\n",
       "      <td>-1.808112</td>\n",
       "      <td>0.627411</td>\n",
       "      <td>-0.095619</td>\n",
       "    </tr>\n",
       "  </tbody>\n",
       "</table>\n",
       "<p>5 rows × 150 columns</p>\n",
       "</div>"
      ],
      "text/plain": [
       "        0         1         2         3         4         5         6    \\\n",
       "0 -0.634810  0.726532  0.823459  1.203708  0.149762  0.136425 -0.211238   \n",
       "1 -0.899957 -0.605034  0.385783 -1.245874 -0.171102 -0.199456 -1.934090   \n",
       "2  1.507654  0.465498  0.512815  2.553884 -0.845310 -1.069210 -1.111144   \n",
       "3  0.259333 -0.552576  0.179224  0.510875 -1.612110 -0.461790 -0.421247   \n",
       "4  0.535412  0.157234 -0.717818  1.604144 -0.459423  0.354609 -0.418408   \n",
       "\n",
       "        7         8         9    ...       140       141       142       143  \\\n",
       "0 -0.194006 -1.178033 -0.396303  ...  0.540165  0.093116  1.285075 -2.280538   \n",
       "1 -0.620224  0.416537 -0.632741  ...  1.006121  0.174310  0.004309  0.554216   \n",
       "2  1.437580 -0.615004  1.642041  ... -0.676799  1.307916 -0.369904 -0.458442   \n",
       "3 -0.224255 -1.158943 -0.414955  ...  0.063848  0.802496 -0.497552 -0.895775   \n",
       "4  0.800805 -0.020758  0.573064  ... -0.448093  0.858594 -0.128474  0.405743   \n",
       "\n",
       "        144       145       146       147       148       149  \n",
       "0 -1.233187  0.156053  0.307842  1.000326  0.008787  0.942602  \n",
       "1 -0.811810  0.702549  0.339486 -0.131980  0.419915 -0.296176  \n",
       "2  0.450523  0.447241 -0.868356 -0.731681 -0.682661  2.115983  \n",
       "3 -0.426867  0.425690 -0.160362  0.003922 -0.369444  0.660751  \n",
       "4  0.014934  0.615203 -0.864762 -1.808112  0.627411 -0.095619  \n",
       "\n",
       "[5 rows x 150 columns]"
      ]
     },
     "execution_count": 16,
     "metadata": {},
     "output_type": "execute_result"
    }
   ],
   "source": [
    "text_arr=scaler.fit_transform(df_text_context)\n",
    "df_text_context=pd.DataFrame(text_arr)\n",
    "df_text_context.head()"
   ]
  },
  {
   "cell_type": "code",
   "execution_count": 17,
   "metadata": {},
   "outputs": [],
   "source": [
    "df_img_context.columns = [f\"colm_{i+1}\" for i in range(128)]\n",
    "df_text_context.columns = [f\"colm_{i+1}\" for i in range(150)]"
   ]
  },
  {
   "cell_type": "code",
   "execution_count": 18,
   "metadata": {},
   "outputs": [
    {
     "data": {
      "text/plain": [
       "Index(['requested_amount($)', 'days_of_fund_raising', 'num_category'], dtype='object')"
      ]
     },
     "execution_count": 18,
     "metadata": {},
     "output_type": "execute_result"
    }
   ],
   "source": [
    "df_amount.columns"
   ]
  },
  {
   "cell_type": "code",
   "execution_count": 19,
   "metadata": {},
   "outputs": [
    {
     "data": {
      "text/html": [
       "<div>\n",
       "<style scoped>\n",
       "    .dataframe tbody tr th:only-of-type {\n",
       "        vertical-align: middle;\n",
       "    }\n",
       "\n",
       "    .dataframe tbody tr th {\n",
       "        vertical-align: top;\n",
       "    }\n",
       "\n",
       "    .dataframe thead th {\n",
       "        text-align: right;\n",
       "    }\n",
       "</style>\n",
       "<table border=\"1\" class=\"dataframe\">\n",
       "  <thead>\n",
       "    <tr style=\"text-align: right;\">\n",
       "      <th></th>\n",
       "      <th>requested_amount($)</th>\n",
       "      <th>days_of_fund_raising</th>\n",
       "      <th>num_category</th>\n",
       "    </tr>\n",
       "  </thead>\n",
       "  <tbody>\n",
       "    <tr>\n",
       "      <th>0</th>\n",
       "      <td>-0.025717</td>\n",
       "      <td>-0.939640</td>\n",
       "      <td>2.309283</td>\n",
       "    </tr>\n",
       "    <tr>\n",
       "      <th>1</th>\n",
       "      <td>-0.024721</td>\n",
       "      <td>-0.904872</td>\n",
       "      <td>2.309283</td>\n",
       "    </tr>\n",
       "    <tr>\n",
       "      <th>2</th>\n",
       "      <td>-0.020393</td>\n",
       "      <td>-0.939640</td>\n",
       "      <td>2.309283</td>\n",
       "    </tr>\n",
       "    <tr>\n",
       "      <th>3</th>\n",
       "      <td>-0.024484</td>\n",
       "      <td>-0.279052</td>\n",
       "      <td>2.309283</td>\n",
       "    </tr>\n",
       "    <tr>\n",
       "      <th>4</th>\n",
       "      <td>-0.023195</td>\n",
       "      <td>-0.904872</td>\n",
       "      <td>2.309283</td>\n",
       "    </tr>\n",
       "  </tbody>\n",
       "</table>\n",
       "</div>"
      ],
      "text/plain": [
       "   requested_amount($)  days_of_fund_raising  num_category\n",
       "0            -0.025717             -0.939640      2.309283\n",
       "1            -0.024721             -0.904872      2.309283\n",
       "2            -0.020393             -0.939640      2.309283\n",
       "3            -0.024484             -0.279052      2.309283\n",
       "4            -0.023195             -0.904872      2.309283"
      ]
     },
     "execution_count": 19,
     "metadata": {},
     "output_type": "execute_result"
    }
   ],
   "source": [
    "arr=scaler.fit_transform(df_amount)\n",
    "df_amount=pd.DataFrame(arr)\n",
    "df_amount.columns=['requested_amount($)', 'days_of_fund_raising', 'num_category']\n",
    "df_amount.head()"
   ]
  },
  {
   "cell_type": "code",
   "execution_count": 20,
   "metadata": {},
   "outputs": [],
   "source": [
    "input1 = np.array(df_amount)"
   ]
  },
  {
   "cell_type": "code",
   "execution_count": 21,
   "metadata": {},
   "outputs": [
    {
     "data": {
      "text/plain": [
       "array([[-0.02571709, -0.93964024,  2.30928318],\n",
       "       [-0.024721  , -0.90487244,  2.30928318],\n",
       "       [-0.02039343, -0.93964024,  2.30928318],\n",
       "       ...,\n",
       "       [-0.02448424, -0.59196228,  1.05797837],\n",
       "       [-0.02571709,  0.20769702,  1.05797837],\n",
       "       [-0.02591322, -0.62673008,  1.05797837]])"
      ]
     },
     "execution_count": 21,
     "metadata": {},
     "output_type": "execute_result"
    }
   ],
   "source": [
    "input1"
   ]
  },
  {
   "cell_type": "code",
   "execution_count": 22,
   "metadata": {},
   "outputs": [],
   "source": [
    "from sklearn.decomposition import PCA\n",
    "\n",
    "pca2 = PCA(n_components=30)\n",
    "input2 = pca2.fit_transform(df_img_context)\n",
    "pca3 = PCA(n_components=30)\n",
    "input3 = pca3.fit_transform(df_text_context)"
   ]
  },
  {
   "cell_type": "code",
   "execution_count": 23,
   "metadata": {},
   "outputs": [],
   "source": [
    "inputA = Input(shape=(3,))\n",
    "inputB= Input(shape=(30,))\n",
    "inputC= Input(shape=(30,))"
   ]
  },
  {
   "cell_type": "code",
   "execution_count": 24,
   "metadata": {},
   "outputs": [
    {
     "name": "stdout",
     "output_type": "stream",
     "text": [
      "Requirement already satisfied: keras-tuner in c:\\python311\\lib\\site-packages (1.4.7)\n",
      "Requirement already satisfied: keras in c:\\python311\\lib\\site-packages (from keras-tuner) (3.4.1)\n",
      "Requirement already satisfied: packaging in c:\\python311\\lib\\site-packages (from keras-tuner) (23.2)\n",
      "Requirement already satisfied: requests in c:\\users\\krish\\appdata\\roaming\\python\\python311\\site-packages (from keras-tuner) (2.32.2)\n",
      "Requirement already satisfied: kt-legacy in c:\\python311\\lib\\site-packages (from keras-tuner) (1.0.5)\n",
      "Requirement already satisfied: absl-py in c:\\users\\krish\\appdata\\roaming\\python\\python311\\site-packages (from keras->keras-tuner) (2.1.0)\n",
      "Requirement already satisfied: numpy in c:\\python311\\lib\\site-packages (from keras->keras-tuner) (1.26.4)\n",
      "Requirement already satisfied: rich in c:\\users\\krish\\appdata\\roaming\\python\\python311\\site-packages (from keras->keras-tuner) (13.7.1)\n",
      "Requirement already satisfied: namex in c:\\users\\krish\\appdata\\roaming\\python\\python311\\site-packages (from keras->keras-tuner) (0.0.8)\n",
      "Requirement already satisfied: h5py in c:\\users\\krish\\appdata\\roaming\\python\\python311\\site-packages (from keras->keras-tuner) (3.11.0)\n",
      "Requirement already satisfied: optree in c:\\users\\krish\\appdata\\roaming\\python\\python311\\site-packages (from keras->keras-tuner) (0.11.0)\n",
      "Requirement already satisfied: ml-dtypes in c:\\users\\krish\\appdata\\roaming\\python\\python311\\site-packages (from keras->keras-tuner) (0.3.2)\n",
      "Requirement already satisfied: charset-normalizer<4,>=2 in c:\\users\\krish\\appdata\\roaming\\python\\python311\\site-packages (from requests->keras-tuner) (3.3.2)\n",
      "Requirement already satisfied: idna<4,>=2.5 in c:\\users\\krish\\appdata\\roaming\\python\\python311\\site-packages (from requests->keras-tuner) (3.7)\n",
      "Requirement already satisfied: urllib3<3,>=1.21.1 in c:\\python311\\lib\\site-packages (from requests->keras-tuner) (2.2.1)\n",
      "Requirement already satisfied: certifi>=2017.4.17 in c:\\users\\krish\\appdata\\roaming\\python\\python311\\site-packages (from requests->keras-tuner) (2024.2.2)\n",
      "Requirement already satisfied: typing-extensions>=4.0.0 in c:\\users\\krish\\appdata\\roaming\\python\\python311\\site-packages (from optree->keras->keras-tuner) (4.12.0)\n",
      "Requirement already satisfied: markdown-it-py>=2.2.0 in c:\\users\\krish\\appdata\\roaming\\python\\python311\\site-packages (from rich->keras->keras-tuner) (3.0.0)\n",
      "Requirement already satisfied: pygments<3.0.0,>=2.13.0 in c:\\users\\krish\\appdata\\roaming\\python\\python311\\site-packages (from rich->keras->keras-tuner) (2.18.0)\n",
      "Requirement already satisfied: mdurl~=0.1 in c:\\users\\krish\\appdata\\roaming\\python\\python311\\site-packages (from markdown-it-py>=2.2.0->rich->keras->keras-tuner) (0.1.2)\n",
      "Note: you may need to restart the kernel to use updated packages.\n"
     ]
    },
    {
     "name": "stderr",
     "output_type": "stream",
     "text": [
      "WARNING: Ignoring invalid distribution ~ensorflow-intel (C:\\Users\\krish\\AppData\\Roaming\\Python\\Python311\\site-packages)\n",
      "WARNING: Ignoring invalid distribution ~ensorflow-intel (C:\\Users\\krish\\AppData\\Roaming\\Python\\Python311\\site-packages)\n",
      "WARNING: Ignoring invalid distribution ~ (c:\\Python311\\Lib\\site-packages)\n",
      "WARNING: Ignoring invalid distribution ~ip (c:\\Python311\\Lib\\site-packages)\n",
      "WARNING: Ignoring invalid distribution ~~p (c:\\Python311\\Lib\\site-packages)\n",
      "WARNING: Ignoring invalid distribution ~ensorflow-intel (C:\\Users\\krish\\AppData\\Roaming\\Python\\Python311\\site-packages)\n",
      "WARNING: Ignoring invalid distribution ~ (c:\\Python311\\Lib\\site-packages)\n",
      "WARNING: Ignoring invalid distribution ~ip (c:\\Python311\\Lib\\site-packages)\n",
      "WARNING: Ignoring invalid distribution ~~p (c:\\Python311\\Lib\\site-packages)\n",
      "WARNING: Ignoring invalid distribution ~ensorflow-intel (C:\\Users\\krish\\AppData\\Roaming\\Python\\Python311\\site-packages)\n"
     ]
    }
   ],
   "source": [
    "%pip install keras-tuner --user"
   ]
  },
  {
   "cell_type": "code",
   "execution_count": 25,
   "metadata": {},
   "outputs": [
    {
     "data": {
      "text/html": [
       "<div>\n",
       "<style scoped>\n",
       "    .dataframe tbody tr th:only-of-type {\n",
       "        vertical-align: middle;\n",
       "    }\n",
       "\n",
       "    .dataframe tbody tr th {\n",
       "        vertical-align: top;\n",
       "    }\n",
       "\n",
       "    .dataframe thead th {\n",
       "        text-align: right;\n",
       "    }\n",
       "</style>\n",
       "<table border=\"1\" class=\"dataframe\">\n",
       "  <thead>\n",
       "    <tr style=\"text-align: right;\">\n",
       "      <th></th>\n",
       "      <th>label(%)</th>\n",
       "    </tr>\n",
       "  </thead>\n",
       "  <tbody>\n",
       "    <tr>\n",
       "      <th>count</th>\n",
       "      <td>12000.000000</td>\n",
       "    </tr>\n",
       "    <tr>\n",
       "      <th>mean</th>\n",
       "      <td>96.709283</td>\n",
       "    </tr>\n",
       "    <tr>\n",
       "      <th>std</th>\n",
       "      <td>3362.273178</td>\n",
       "    </tr>\n",
       "    <tr>\n",
       "      <th>min</th>\n",
       "      <td>0.000000</td>\n",
       "    </tr>\n",
       "    <tr>\n",
       "      <th>25%</th>\n",
       "      <td>0.179700</td>\n",
       "    </tr>\n",
       "    <tr>\n",
       "      <th>50%</th>\n",
       "      <td>0.800000</td>\n",
       "    </tr>\n",
       "    <tr>\n",
       "      <th>75%</th>\n",
       "      <td>2.921850</td>\n",
       "    </tr>\n",
       "    <tr>\n",
       "      <th>max</th>\n",
       "      <td>185168.571429</td>\n",
       "    </tr>\n",
       "  </tbody>\n",
       "</table>\n",
       "</div>"
      ],
      "text/plain": [
       "            label(%)\n",
       "count   12000.000000\n",
       "mean       96.709283\n",
       "std      3362.273178\n",
       "min         0.000000\n",
       "25%         0.179700\n",
       "50%         0.800000\n",
       "75%         2.921850\n",
       "max    185168.571429"
      ]
     },
     "execution_count": 25,
     "metadata": {},
     "output_type": "execute_result"
    }
   ],
   "source": [
    "df_label.describe()"
   ]
  },
  {
   "cell_type": "code",
   "execution_count": 26,
   "metadata": {},
   "outputs": [],
   "source": [
    "expected_label=[]\n",
    "for x in np.array(df_label):\n",
    "  if x>=100:\n",
    "    expected_label.append(\"more than 100 %\")\n",
    "  elif x>=80:\n",
    "    expected_label.append(\"between 80 to 100 %\")\n",
    "  elif x>=50:\n",
    "    expected_label.append(\"between 50 to 80 %\")\n",
    "  elif x>=20:\n",
    "    expected_label.append(\"between 20 to 50 %\")\n",
    "  else:\n",
    "    expected_label.append(\"less than 20 %\")"
   ]
  },
  {
   "cell_type": "code",
   "execution_count": 27,
   "metadata": {},
   "outputs": [
    {
     "name": "stderr",
     "output_type": "stream",
     "text": [
      "C:\\Users\\krish\\AppData\\Local\\Temp\\ipykernel_20244\\1870177616.py:10: FutureWarning: Downcasting behavior in `replace` is deprecated and will be removed in a future version. To retain the old behavior, explicitly call `result.infer_objects(copy=False)`. To opt-in to the future behavior, set `pd.set_option('future.no_silent_downcasting', True)`\n",
      "  expected_label = np.array(pd.DataFrame(expected_label).replace(category))\n"
     ]
    }
   ],
   "source": [
    "category = {\n",
    "    \"more than 100 %\": 4,\n",
    "    \"between 80 to 100 %\": 3,\n",
    "    \"between 50 to 80 %\": 2,\n",
    "    \"between 20 to 50 %\":1,\n",
    "    \"less than 20 %\":0\n",
    "}\n",
    "\n",
    "expected_label = np.array(pd.DataFrame(expected_label).replace(category))\n",
    "expected_label=expected_label.reshape(-1)"
   ]
  },
  {
   "cell_type": "code",
   "execution_count": 28,
   "metadata": {},
   "outputs": [],
   "source": [
    "import tensorflow as tf\n",
    "from tensorflow.keras import layers, Model\n",
    "from keras_tuner import HyperModel\n",
    "from keras_tuner import RandomSearch"
   ]
  },
  {
   "cell_type": "code",
   "execution_count": 41,
   "metadata": {},
   "outputs": [],
   "source": [
    "# Define the hypermodel function\n",
    "def build_model(hp):\n",
    "    # Define the input layers\n",
    "    input1 = layers.Input(shape=(3,))\n",
    "    input2 = layers.Input(shape=(30,))\n",
    "    input3 = layers.Input(shape=(30,))\n",
    "\n",
    "    # Define the hyperparameters for the first input branch\n",
    "    x1 = layers.Dense(units=hp.Int('units_input1', min_value=4, max_value=256, step=4), activation=hp.Choice('activation_input1', ['relu', 'tanh', 'sigmoid']))(input1)\n",
    "    x1 = layers.Dropout(rate=hp.Float('dropout_input1', min_value=0.0, max_value=0.5, step=0.1))(x1)\n",
    "    x1 = layers.Dense(units=hp.Int('units_input2', min_value=4, max_value=256, step=4), activation=hp.Choice('activation_input2', ['relu', 'tanh', 'sigmoid']))(x1)\n",
    "    x1 = layers.Dropout(rate=hp.Float('dropout_input2', min_value=0.0, max_value=0.5, step=0.1))(x1)\n",
    "    x1 = layers.Dense(units=hp.Int('units_input3', min_value=4, max_value=256, step=4), activation=hp.Choice('activation_input3', ['relu', 'tanh', 'sigmoid']))(x1)\n",
    "    x1 = layers.Dropout(rate=hp.Float('dropout_input3', min_value=0.0, max_value=0.5, step=0.1))(x1)\n",
    "    x1 = layers.Dense(units=hp.Int('units_input4', min_value=4, max_value=256, step=4), activation=hp.Choice('activation_input4', ['relu', 'tanh', 'sigmoid']))(x1)\n",
    "    x1 = layers.Dropout(rate=hp.Float('dropout_input4', min_value=0.0, max_value=0.5, step=0.1))(x1)\n",
    "\n",
    "    # Define the hyperparameters for the second input branch\n",
    "    y1 = layers.Dense(units=hp.Int('units_input5', min_value=4, max_value=256, step=4), activation=hp.Choice('activation_input5', ['relu', 'tanh', 'sigmoid']))(input2)\n",
    "    y1 = layers.Dropout(rate=hp.Float('dropout_input5', min_value=0.0, max_value=0.5, step=0.1))(y1)\n",
    "    y1 = layers.Dense(units=hp.Int('units_input6', min_value=4, max_value=256, step=4), activation=hp.Choice('activation_input6', ['relu', 'tanh', 'sigmoid']))(input2)\n",
    "    y1 = layers.Dropout(rate=hp.Float('dropout_input6', min_value=0.0, max_value=0.5, step=0.1))(y1)\n",
    "    y1 = layers.Dense(units=hp.Int('units_input7', min_value=4, max_value=256, step=4), activation=hp.Choice('activation_input7', ['relu', 'tanh', 'sigmoid']))(input2)\n",
    "    y1 = layers.Dropout(rate=hp.Float('dropout_input7', min_value=0.0, max_value=0.5, step=0.1))(y1)\n",
    "    y1 = layers.Dense(units=hp.Int('units_input8', min_value=4, max_value=256, step=4), activation=hp.Choice('activation_input8', ['relu', 'tanh', 'sigmoid']))(input2)\n",
    "    y1 = layers.Dropout(rate=hp.Float('dropout_input8', min_value=0.0, max_value=0.5, step=0.1))(y1)\n",
    "\n",
    "    # Define the hyperparameters for the third input branch\n",
    "    z1 = layers.Dense(units=hp.Int('units_input9', min_value=4, max_value=256, step=4), activation=hp.Choice('activation_input9', ['relu', 'tanh', 'sigmoid']))(input3)\n",
    "    z1 = layers.Dropout(rate=hp.Float('dropout_input9', min_value=0.0, max_value=0.5, step=0.1))(z1)\n",
    "    z1 = layers.Dense(units=hp.Int('units_input10', min_value=4, max_value=256, step=4), activation=hp.Choice('activation_input10', ['relu', 'tanh', 'sigmoid']))(input3)\n",
    "    z1 = layers.Dropout(rate=hp.Float('dropout_input10', min_value=0.0, max_value=0.5, step=0.1))(z1)\n",
    "    z1 = layers.Dense(units=hp.Int('units_input11', min_value=4, max_value=256, step=4), activation=hp.Choice('activation_input11', ['relu', 'tanh', 'sigmoid']))(input3)\n",
    "    z1 = layers.Dropout(rate=hp.Float('dropout_input11', min_value=0.0, max_value=0.5, step=0.1))(z1)\n",
    "    z1 = layers.Dense(units=hp.Int('units_input12', min_value=4, max_value=256, step=4), activation=hp.Choice('activation_input12', ['relu', 'tanh', 'sigmoid']))(input3)\n",
    "    z1 = layers.Dropout(rate=hp.Float('dropout_input12', min_value=0.0, max_value=0.5, step=0.1))(z1)\n",
    "\n",
    "    # Combine the branches\n",
    "    combined = layers.concatenate([x1, y1, z1])\n",
    "\n",
    "    # Output layer\n",
    "    op = layers.Dense(units=hp.Int('units_output1', min_value=4, max_value=256, step=4), activation=hp.Choice('activation_output1', ['relu', 'tanh', 'sigmoid']))(combined)\n",
    "    op = layers.Dropout(rate=hp.Float('dropout_output1', min_value=0.0, max_value=0.5, step=0.1))(op)\n",
    "    op = layers.Dense(units=hp.Int('units_output2', min_value=4, max_value=256, step=4), activation=hp.Choice('activation_output2', ['relu', 'tanh', 'sigmoid']))(op)\n",
    "    op = layers.Dropout(rate=hp.Float('dropout_output2', min_value=0.0, max_value=0.5, step=0.1))(op)\n",
    "    op = layers.Dense(units=hp.Int('units_output3', min_value=4, max_value=256, step=4), activation=hp.Choice('activation_output3', ['relu', 'tanh', 'sigmoid']))(op)\n",
    "    op = layers.Dropout(rate=hp.Float('dropout_output3', min_value=0.0, max_value=0.5, step=0.1))(op)\n",
    "    op = layers.Dense(units=hp.Int('units_output4', min_value=4, max_value=256, step=4), activation=hp.Choice('activation_output4', ['relu', 'tanh', 'sigmoid']))(op)\n",
    "    op = layers.Dropout(rate=hp.Float('dropout_output4', min_value=0.0, max_value=0.5, step=0.1))(op)\n",
    "    op = layers.Dense(units=hp.Int('units_output5', min_value=4, max_value=256, step=4), activation=hp.Choice('activation_output5', ['relu', 'tanh', 'sigmoid']))(op)\n",
    "    op = layers.Dropout(rate=hp.Float('dropout_output5', min_value=0.0, max_value=0.5, step=0.1))(op)\n",
    "    output = layers.Dense(5, activation='softmax')(op)\n",
    "\n",
    "    # Define the model\n",
    "    model = Model(inputs=[input1, input2, input3], outputs=output)\n",
    "\n",
    "    optimizer = hp.Choice('optimizer', ['adam', 'rmsprop', 'sgd', 'nadam'])\n",
    "\n",
    "    # Compile the model with the selected optimizer and a tunable learning rate\n",
    "    if optimizer == 'adam':\n",
    "      opt = tf.keras.optimizers.Adam(learning_rate=hp.Float('learning_rate', min_value=1e-4, max_value=1e-2, sampling='LOG'))\n",
    "    elif optimizer == 'rmsprop':\n",
    "      opt = tf.keras.optimizers.RMSprop(learning_rate=hp.Float('learning_rate', min_value=1e-4, max_value=1e-2, sampling='LOG'))\n",
    "    elif optimizer == 'sgd':\n",
    "      opt = tf.keras.optimizers.SGD(learning_rate=hp.Float('learning_rate', min_value=1e-4, max_value=1e-2, sampling='LOG'))\n",
    "    elif optimizer == 'nadam':\n",
    "      opt = tf.keras.optimizers.Nadam(learning_rate=hp.Float('learning_rate', min_value=1e-4, max_value=1e-2, sampling='LOG'))\n",
    "\n",
    "    # Compile the model with a tunable learning rate\n",
    "    model.compile(optimizer=opt,loss='sparse_categorical_crossentropy',metrics=['accuracy'])\n",
    "\n",
    "    return model"
   ]
  },
  {
   "cell_type": "code",
   "execution_count": 45,
   "metadata": {},
   "outputs": [],
   "source": [
    "# Initialize the tuner\n",
    "tuner = RandomSearch(\n",
    "    build_model,  # The hypermodel function\n",
    "    objective='val_loss',  # The objective to minimize\n",
    "    max_trials=10,  # Number of different models to try\n",
    "    executions_per_trial=2,  # Number of times to train each model\n",
    "    directory='my_dir8',  # Where to save the search results\n",
    "    project_name='tuning'  # Name of the project\n",
    ")"
   ]
  },
  {
   "cell_type": "code",
   "execution_count": 47,
   "metadata": {},
   "outputs": [
    {
     "name": "stdout",
     "output_type": "stream",
     "text": [
      "Trial 10 Complete [00h 00m 35s]\n",
      "val_loss: 0.07505838200449944\n",
      "\n",
      "Best val_loss So Far: 0.06359228119254112\n",
      "Total elapsed time: 00h 10m 49s\n"
     ]
    }
   ],
   "source": [
    "tuner.search([input1, input2, input3], expected_label,\n",
    "             validation_split=0.2,\n",
    "             epochs=5,\n",
    "             batch_size=tuner.oracle.hyperparameters.Int('batch_size', min_value=4, max_value=128, step=4)\n",
    "            )"
   ]
  },
  {
   "cell_type": "code",
   "execution_count": 48,
   "metadata": {},
   "outputs": [
    {
     "name": "stderr",
     "output_type": "stream",
     "text": [
      "C:\\Users\\krish\\AppData\\Roaming\\Python\\Python311\\site-packages\\keras\\src\\saving\\saving_lib.py:576: UserWarning: Skipping variable loading for optimizer 'nadam', because it has 2 variables whereas the saved optimizer has 51 variables. \n",
      "  saveable.load_own_variables(weights_store.get(inner_path))\n"
     ]
    },
    {
     "name": "stdout",
     "output_type": "stream",
     "text": [
      "\u001b[1m375/375\u001b[0m \u001b[32m━━━━━━━━━━━━━━━━━━━━\u001b[0m\u001b[37m\u001b[0m \u001b[1m1s\u001b[0m 1ms/step - accuracy: 0.9634 - loss: 0.1370\n"
     ]
    },
    {
     "data": {
      "text/plain": [
       "[0.07844755798578262, 0.981333315372467]"
      ]
     },
     "execution_count": 48,
     "metadata": {},
     "output_type": "execute_result"
    }
   ],
   "source": [
    "# Get the optimal hyperparameters (no num_models argument)\n",
    "best_hyperparameters = tuner.get_best_hyperparameters()[0]\n",
    "\n",
    "# Get the best model (using num_models argument here)\n",
    "best_model = tuner.get_best_models(num_models=1)[0]\n",
    "\n",
    "# Evaluate the best model\n",
    "best_model.evaluate([input1, input2, input3], expected_label)"
   ]
  },
  {
   "cell_type": "code",
   "execution_count": 33,
   "metadata": {},
   "outputs": [],
   "source": [
    "import matplotlib.pyplot as plt"
   ]
  },
  {
   "cell_type": "code",
   "execution_count": 34,
   "metadata": {},
   "outputs": [
    {
     "ename": "NameError",
     "evalue": "name 'history' is not defined",
     "output_type": "error",
     "traceback": [
      "\u001b[1;31m---------------------------------------------------------------------------\u001b[0m",
      "\u001b[1;31mNameError\u001b[0m                                 Traceback (most recent call last)",
      "Cell \u001b[1;32mIn[34], line 1\u001b[0m\n\u001b[1;32m----> 1\u001b[0m plt\u001b[38;5;241m.\u001b[39mplot(\u001b[43mhistory\u001b[49m\u001b[38;5;241m.\u001b[39mhistory[\u001b[38;5;124m\"\u001b[39m\u001b[38;5;124maccuracy\u001b[39m\u001b[38;5;124m\"\u001b[39m],c\u001b[38;5;241m=\u001b[39m\u001b[38;5;124m\"\u001b[39m\u001b[38;5;124mred\u001b[39m\u001b[38;5;124m\"\u001b[39m)\n\u001b[0;32m      2\u001b[0m plt\u001b[38;5;241m.\u001b[39mplot(history\u001b[38;5;241m.\u001b[39mhistory[\u001b[38;5;124m\"\u001b[39m\u001b[38;5;124mval_accuracy\u001b[39m\u001b[38;5;124m\"\u001b[39m],c\u001b[38;5;241m=\u001b[39m\u001b[38;5;124m\"\u001b[39m\u001b[38;5;124mblue\u001b[39m\u001b[38;5;124m\"\u001b[39m)\n",
      "\u001b[1;31mNameError\u001b[0m: name 'history' is not defined"
     ]
    }
   ],
   "source": [
    "plt.plot(history.history[\"accuracy\"],c=\"red\")\n",
    "plt.plot(history.history[\"val_accuracy\"],c=\"blue\")"
   ]
  },
  {
   "cell_type": "code",
   "execution_count": null,
   "metadata": {},
   "outputs": [],
   "source": []
  },
  {
   "cell_type": "code",
   "execution_count": null,
   "metadata": {},
   "outputs": [],
   "source": []
  },
  {
   "cell_type": "markdown",
   "metadata": {},
   "source": [
    "A->PurPose\n",
    "B->Story\n",
    "C->Image (obj -> if sentiment can be found out or like supporting the purpose category(concat with purpose logits in this particular case))\n",
    "\n"
   ]
  },
  {
   "cell_type": "code",
   "execution_count": null,
   "metadata": {},
   "outputs": [],
   "source": []
  },
  {
   "cell_type": "code",
   "execution_count": null,
   "metadata": {},
   "outputs": [],
   "source": [
    "inputA = Input(shape=(10,))\n",
    "inputB= Input(shape=(2370,)) #for image\n",
    "inputC= Input(shape=(28,28,1))"
   ]
  },
  {
   "cell_type": "code",
   "execution_count": null,
   "metadata": {},
   "outputs": [],
   "source": [
    "# layer architechture for A\n",
    "dlA1=Dense(64,activation='relu')(inputA)\n",
    "dlA2=Dense(32,activation='relu')(dlA1)\n",
    "dlA3=Dense(8,activation='relu')(dlA2)"
   ]
  },
  {
   "cell_type": "code",
   "execution_count": null,
   "metadata": {},
   "outputs": [],
   "source": [
    "# layer architechture for B\n",
    "vocab_size=2370\n",
    "embedding_dim=250\n",
    "elB1=Embedding(input_dim=vocab_size,output_dim=embedding_dim)(inputB)\n",
    "lstmlB2=LSTM(32,return_sequences=True,activation='relu')(elB1)\n",
    "lstmlB3=LSTM(32,return_sequences=True,activation='relu')(lstmlB2)\n",
    "lstmlB4=LSTM(8,return_sequences=False,activation='relu')(lstmlB3)\n",
    "dlB5=Dense(256,activation='relu')(lstmlB4)\n",
    "dlB6=Dense(124,activation='relu')(dlB5)\n",
    "dlB7=Dense(64,activation='relu')(dlB6)"
   ]
  },
  {
   "cell_type": "code",
   "execution_count": null,
   "metadata": {},
   "outputs": [],
   "source": [
    "# layer architechture for C\n",
    "y=Conv2D(filters=32, kernel_size=(3,3), strides=(1,1), padding=\"valid\", activation='relu')(inputC)\n",
    "y1=MaxPooling2D(pool_size=(2,2),strides=2,padding='valid')(y)\n",
    "y2=Conv2D(filters=16,kernel_size=(3,3),strides=(1,1),padding='valid',activation='relu')(y1)\n",
    "y3=MaxPooling2D(pool_size=(2,2),strides=2,padding='valid')(y2)\n",
    "y4=Flatten()(y3)\n",
    "y5=Dense(128,activation='relu')(y4)\n",
    "y6=Dense(10,activation='softmax')(y5)"
   ]
  },
  {
   "cell_type": "code",
   "execution_count": null,
   "metadata": {},
   "outputs": [],
   "source": [
    "combined = concatenate([dlA3, y6, dlB7])"
   ]
  },
  {
   "cell_type": "code",
   "execution_count": null,
   "metadata": {},
   "outputs": [],
   "source": [
    "# apply a FC layer and then a regression prediction on the\n",
    "# combined outputs\n",
    "op1 = Dense(2, activation=\"relu\")(combined)\n",
    "op2 = Dense(1, activation=\"linear\")(op1)"
   ]
  },
  {
   "cell_type": "code",
   "execution_count": null,
   "metadata": {},
   "outputs": [],
   "source": [
    "# our model will accept the inputs of the two branches and\n",
    "# then output a single value\n",
    "model = Model(inputs=[inputA, inputB, inputC], outputs=op2)"
   ]
  },
  {
   "cell_type": "code",
   "execution_count": null,
   "metadata": {},
   "outputs": [],
   "source": [
    "import pydot\n",
    "from tensorflow.keras.utils import plot_model\n",
    "\n",
    "# Your model code here\n",
    "plot_model(model)\n"
   ]
  },
  {
   "cell_type": "code",
   "execution_count": null,
   "metadata": {},
   "outputs": [],
   "source": []
  },
  {
   "cell_type": "code",
   "execution_count": null,
   "metadata": {},
   "outputs": [],
   "source": []
  }
 ],
 "metadata": {
  "kernelspec": {
   "display_name": "Python 3",
   "language": "python",
   "name": "python3"
  },
  "language_info": {
   "codemirror_mode": {
    "name": "ipython",
    "version": 3
   },
   "file_extension": ".py",
   "mimetype": "text/x-python",
   "name": "python",
   "nbconvert_exporter": "python",
   "pygments_lexer": "ipython3",
   "version": "3.11.0"
  }
 },
 "nbformat": 4,
 "nbformat_minor": 2
}
